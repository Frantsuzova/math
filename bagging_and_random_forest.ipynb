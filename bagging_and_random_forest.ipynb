{
  "nbformat": 4,
  "nbformat_minor": 0,
  "metadata": {
    "colab": {
      "name": "bagging_and_random_forest.ipynb",
      "provenance": []
    },
    "kernelspec": {
      "name": "python3",
      "display_name": "Python 3"
    }
  },
  "cells": [
    {
      "cell_type": "markdown",
      "metadata": {
        "id": "CLMm2AIjs4Fk",
        "colab_type": "text"
      },
      "source": [
        "### Assignment: Бэггинг и случайный лес"
      ]
    },
    {
      "cell_type": "code",
      "metadata": {
        "id": "FjMOyr8YsMqm",
        "colab_type": "code",
        "colab": {}
      },
      "source": [
        "%matplotlib inline\n",
        "from sklearn import datasets\n",
        "from sklearn.model_selection import cross_val_score\n",
        "from sklearn.tree import DecisionTreeClassifier\n",
        "from sklearn.ensemble import BaggingClassifier, RandomForestClassifier\n",
        "import numpy as np\n",
        "import pandas as pd\n",
        "from matplotlib import pyplot as plt\n",
        "import seaborn"
      ],
      "execution_count": 0,
      "outputs": []
    },
    {
      "cell_type": "code",
      "metadata": {
        "id": "82v-sv6ms8F9",
        "colab_type": "code",
        "colab": {}
      },
      "source": [
        "dataset = datasets.load_digits()\n",
        "X = dataset['data']\n",
        "y = dataset['target']"
      ],
      "execution_count": 0,
      "outputs": []
    },
    {
      "cell_type": "code",
      "metadata": {
        "id": "0AuvlgzVtJ7K",
        "colab_type": "code",
        "colab": {
          "base_uri": "https://localhost:8080/",
          "height": 134
        },
        "outputId": "5bb5edcb-7671-458b-d4c8-30a60e2a5e0e"
      },
      "source": [
        "X"
      ],
      "execution_count": 4,
      "outputs": [
        {
          "output_type": "execute_result",
          "data": {
            "text/plain": [
              "array([[ 0.,  0.,  5., ...,  0.,  0.,  0.],\n",
              "       [ 0.,  0.,  0., ..., 10.,  0.,  0.],\n",
              "       [ 0.,  0.,  0., ..., 16.,  9.,  0.],\n",
              "       ...,\n",
              "       [ 0.,  0.,  1., ...,  6.,  0.,  0.],\n",
              "       [ 0.,  0.,  2., ..., 12.,  0.,  0.],\n",
              "       [ 0.,  0., 10., ..., 12.,  1.,  0.]])"
            ]
          },
          "metadata": {
            "tags": []
          },
          "execution_count": 4
        }
      ]
    },
    {
      "cell_type": "code",
      "metadata": {
        "id": "Lee482cztNHK",
        "colab_type": "code",
        "colab": {
          "base_uri": "https://localhost:8080/",
          "height": 33
        },
        "outputId": "85aa8521-a6d2-4a67-e4f9-6662fe8ca3ff"
      },
      "source": [
        "clf = DecisionTreeClassifier()\n",
        "scores = cross_val_score(clf, X, y, cv = 10)\n",
        "scores.mean()"
      ],
      "execution_count": 11,
      "outputs": [
        {
          "output_type": "execute_result",
          "data": {
            "text/plain": [
              "0.8269118559900683"
            ]
          },
          "metadata": {
            "tags": []
          },
          "execution_count": 11
        }
      ]
    },
    {
      "cell_type": "code",
      "metadata": {
        "id": "1UIty6qttT8h",
        "colab_type": "code",
        "colab": {
          "base_uri": "https://localhost:8080/",
          "height": 33
        },
        "outputId": "b11449f9-5073-474c-c06c-924c8250789a"
      },
      "source": [
        "clf = BaggingClassifier(n_estimators = 100)\n",
        "scores = cross_val_score(clf, X, y, cv = 10)\n",
        "scores.mean()"
      ],
      "execution_count": 12,
      "outputs": [
        {
          "output_type": "execute_result",
          "data": {
            "text/plain": [
              "0.9226070763500932"
            ]
          },
          "metadata": {
            "tags": []
          },
          "execution_count": 12
        }
      ]
    },
    {
      "cell_type": "code",
      "metadata": {
        "id": "Pq4JjUxPtonT",
        "colab_type": "code",
        "colab": {
          "base_uri": "https://localhost:8080/",
          "height": 33
        },
        "outputId": "b547e3e3-01d0-4fec-8eaa-e6231c0761cb"
      },
      "source": [
        "d = X.shape[1]\n",
        "number_of_features = int(d ** 0.5)\n",
        "number_of_features"
      ],
      "execution_count": 13,
      "outputs": [
        {
          "output_type": "execute_result",
          "data": {
            "text/plain": [
              "8"
            ]
          },
          "metadata": {
            "tags": []
          },
          "execution_count": 13
        }
      ]
    },
    {
      "cell_type": "code",
      "metadata": {
        "id": "02-2np-Httt2",
        "colab_type": "code",
        "colab": {
          "base_uri": "https://localhost:8080/",
          "height": 33
        },
        "outputId": "1f3aa050-b58d-4f63-d5bf-233a42ad2af7"
      },
      "source": [
        "clf = BaggingClassifier(n_estimators = 100, max_features = number_of_features)\n",
        "scores = cross_val_score(clf, X, y, cv = 10)\n",
        "scores.mean()"
      ],
      "execution_count": 14,
      "outputs": [
        {
          "output_type": "execute_result",
          "data": {
            "text/plain": [
              "0.930996275605214"
            ]
          },
          "metadata": {
            "tags": []
          },
          "execution_count": 14
        }
      ]
    },
    {
      "cell_type": "code",
      "metadata": {
        "id": "MCMoZwiGtws5",
        "colab_type": "code",
        "colab": {
          "base_uri": "https://localhost:8080/",
          "height": 33
        },
        "outputId": "6b3e9038-79df-4e3c-ae17-951c15baf155"
      },
      "source": [
        "clf = BaggingClassifier(DecisionTreeClassifier(max_features = number_of_features), n_estimators = 100)\n",
        "scores = cross_val_score(clf, X, y, cv = 10)\n",
        "scores.mean()"
      ],
      "execution_count": 15,
      "outputs": [
        {
          "output_type": "execute_result",
          "data": {
            "text/plain": [
              "0.9510211049037863"
            ]
          },
          "metadata": {
            "tags": []
          },
          "execution_count": 15
        }
      ]
    },
    {
      "cell_type": "code",
      "metadata": {
        "id": "s67Uqj3At1xZ",
        "colab_type": "code",
        "colab": {
          "base_uri": "https://localhost:8080/",
          "height": 33
        },
        "outputId": "830f5d68-07f0-426b-94a5-e2d1e9956ea5"
      },
      "source": [
        "clf = RandomForestClassifier(n_estimators = 100, max_features = number_of_features)\n",
        "scores = cross_val_score(clf, X, y, cv = 10)\n",
        "scores.mean()"
      ],
      "execution_count": 16,
      "outputs": [
        {
          "output_type": "execute_result",
          "data": {
            "text/plain": [
              "0.9532526381129733"
            ]
          },
          "metadata": {
            "tags": []
          },
          "execution_count": 16
        }
      ]
    },
    {
      "cell_type": "markdown",
      "metadata": {
        "id": "-frf_yiLt_T0",
        "colab_type": "text"
      },
      "source": [
        "### Зависимость от количества деревьев"
      ]
    },
    {
      "cell_type": "code",
      "metadata": {
        "id": "U_OAmhdqt8K4",
        "colab_type": "code",
        "colab": {}
      },
      "source": [
        "number_of_estimators = np.arange(5, 150, 5)\n",
        "scores_estimators = []\n",
        "for n in number_of_estimators:\n",
        "    n\n",
        "    clf = RandomForestClassifier(n_estimators = n, max_features = number_of_features)\n",
        "    scores_estimators.append(cross_val_score(clf, X, y, cv = 10).mean())"
      ],
      "execution_count": 0,
      "outputs": []
    },
    {
      "cell_type": "code",
      "metadata": {
        "id": "QThfNuxnuE0f",
        "colab_type": "code",
        "colab": {
          "base_uri": "https://localhost:8080/",
          "height": 312
        },
        "outputId": "33e8ff1e-1aff-4430-9e49-078e6f4cb0ac"
      },
      "source": [
        "plt.plot(number_of_estimators, scores_estimators)\n",
        "plt.xlabel('number of trees')\n",
        "plt.ylabel('accuracy')\n",
        "plt.title('RandomForest score')"
      ],
      "execution_count": 20,
      "outputs": [
        {
          "output_type": "execute_result",
          "data": {
            "text/plain": [
              "Text(0.5, 1.0, 'RandomForest score')"
            ]
          },
          "metadata": {
            "tags": []
          },
          "execution_count": 20
        },
        {
          "output_type": "display_data",
          "data": {
            "image/png": "[encoded data removed]",
            "text/plain": [
              "<Figure size 432x288 with 1 Axes>"
            ]
          },
          "metadata": {
            "tags": [],
            "needs_background": "light"
          }
        }
      ]
    },
    {
      "cell_type": "markdown",
      "metadata": {
        "id": "RzG2Gh3UuT69",
        "colab_type": "text"
      },
      "source": [
        "##Зависимость от количества признаков"
      ]
    },
    {
      "cell_type": "code",
      "metadata": {
        "id": "HyAiYSuDuRAf",
        "colab_type": "code",
        "colab": {}
      },
      "source": [
        "number_of_features_list = np.arange(5, d, 5)\n",
        "scores_features = []\n",
        "for n in number_of_features_list:\n",
        "    n\n",
        "    clf = RandomForestClassifier(n_estimators = 100, max_features = n)\n",
        "    scores_features.append(cross_val_score(clf, X, y, cv = 10).mean())"
      ],
      "execution_count": 0,
      "outputs": []
    },
    {
      "cell_type": "code",
      "metadata": {
        "id": "D_ZMADxJuZbg",
        "colab_type": "code",
        "colab": {
          "base_uri": "https://localhost:8080/",
          "height": 312
        },
        "outputId": "d5dfbc02-fc5e-4aac-ae0e-13d6043d7d5c"
      },
      "source": [
        "plt.plot(number_of_features_list, scores_features)\n",
        "plt.xlabel('number of features')\n",
        "plt.ylabel('accuracy')\n",
        "plt.title('RandomForest score')"
      ],
      "execution_count": 22,
      "outputs": [
        {
          "output_type": "execute_result",
          "data": {
            "text/plain": [
              "Text(0.5, 1.0, 'RandomForest score')"
            ]
          },
          "metadata": {
            "tags": []
          },
          "execution_count": 22
        },
        {
          "output_type": "display_data",
          "data": {
            "image/png": "[encoded data removed]",
            "text/plain": [
              "<Figure size 432x288 with 1 Axes>"
            ]
          },
          "metadata": {
            "tags": [],
            "needs_background": "light"
          }
        }
      ]
    },
    {
      "cell_type": "markdown",
      "metadata": {
        "id": "-cC8HQEhudZ0",
        "colab_type": "text"
      },
      "source": [
        "##Зависимость от глубины деревьев"
      ]
    },
    {
      "cell_type": "code",
      "metadata": {
        "id": "VsmdllTJua2W",
        "colab_type": "code",
        "colab": {}
      },
      "source": [
        "depths = np.arange(1, 30, 1)\n",
        "scores_depth = []\n",
        "for n in depths:\n",
        "    n\n",
        "    clf = RandomForestClassifier(n_estimators = 100, max_features = number_of_features, max_depth = n)\n",
        "    scores_depth.append(cross_val_score(clf, X, y, cv = 10).mean())"
      ],
      "execution_count": 0,
      "outputs": []
    },
    {
      "cell_type": "code",
      "metadata": {
        "id": "vlymWxfhuh7H",
        "colab_type": "code",
        "colab": {
          "base_uri": "https://localhost:8080/",
          "height": 312
        },
        "outputId": "fb332e25-a06a-4d80-e3a3-72c2098391e3"
      },
      "source": [
        "plt.plot(depths, scores_depth)\n",
        "plt.xlabel('depth of trees')\n",
        "plt.ylabel('accuracy')\n",
        "plt.title('RandomForest score')"
      ],
      "execution_count": 24,
      "outputs": [
        {
          "output_type": "execute_result",
          "data": {
            "text/plain": [
              "Text(0.5, 1.0, 'RandomForest score')"
            ]
          },
          "metadata": {
            "tags": []
          },
          "execution_count": 24
        },
        {
          "output_type": "display_data",
          "data": {
            "image/png": "[encoded data removed]",
            "text/plain": [
              "<Figure size 432x288 with 1 Axes>"
            ]
          },
          "metadata": {
            "tags": [],
            "needs_background": "light"
          }
        }
      ]
    },
    {
      "cell_type": "code",
      "metadata": {
        "id": "_rdvXGVkukKq",
        "colab_type": "code",
        "colab": {}
      },
      "source": [
        ""
      ],
      "execution_count": 0,
      "outputs": []
    }
  ]
}