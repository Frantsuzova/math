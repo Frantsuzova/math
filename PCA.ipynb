{
  "nbformat": 4,
  "nbformat_minor": 0,
  "metadata": {
    "kernelspec": {
      "display_name": "Python 3",
      "language": "python",
      "name": "python3"
    },
    "language_info": {
      "codemirror_mode": {
        "name": "ipython",
        "version": 3
      },
      "file_extension": ".py",
      "mimetype": "text/x-python",
      "name": "python",
      "nbconvert_exporter": "python",
      "pygments_lexer": "ipython3",
      "version": "3.6.8"
    },
    "colab": {
      "name": "PCA.ipynb",
      "provenance": []
    }
  },
  "cells": [
    {
      "cell_type": "markdown",
      "metadata": {
        "id": "kPb5Ar50-Bpz",
        "colab_type": "text"
      },
      "source": [
        "# Метод главных компонент\n"
      ]
    },
    {
      "cell_type": "code",
      "metadata": {
        "id": "SOorjN5f-Bp7",
        "colab_type": "code",
        "colab": {}
      },
      "source": [
        "import numpy as np\n",
        "import pandas as pd\n",
        "import matplotlib\n",
        "from matplotlib import pyplot as plt\n",
        "import matplotlib.patches as mpatches\n",
        "matplotlib.style.use('ggplot')\n",
        "%matplotlib inline"
      ],
      "execution_count": 1,
      "outputs": []
    },
    {
      "cell_type": "markdown",
      "metadata": {
        "id": "IODwplYK-BqR",
        "colab_type": "text"
      },
      "source": [
        "## Пример\n",
        "\n",
        "Рассмотрим набор данных, который сэмплирован из многомерного нормального распределения с матрицей ковариации $C = \\begin{pmatrix} 3 & 1 \\\\ 1 & 2 \\end{pmatrix}$."
      ]
    },
    {
      "cell_type": "code",
      "metadata": {
        "id": "h3vZWiU3-BqS",
        "colab_type": "code",
        "colab": {
          "base_uri": "https://localhost:8080/",
          "height": 265
        },
        "outputId": "64d50a1f-6e09-4147-d1d7-df257e7f8179"
      },
      "source": [
        "from sklearn.decomposition import PCA\n",
        "\n",
        "mu = np.zeros(2)\n",
        "C = np.array([[3,1],[1,2]])\n",
        "\n",
        "data = np.random.multivariate_normal(mu, C, size=50)\n",
        "plt.scatter(data[:,0], data[:,1])\n",
        "plt.show()"
      ],
      "execution_count": 2,
      "outputs": [
        {
          "output_type": "display_data",
          "data": {
            "image/png": "[encoded data removed]",
            "text/plain": [
              "<Figure size 432x288 with 1 Axes>"
            ]
          },
          "metadata": {
            "tags": [],
            "needs_background": "light"
          }
        }
      ]
    },
    {
      "cell_type": "markdown",
      "metadata": {
        "id": "hynLdiBI-Bqa",
        "colab_type": "text"
      },
      "source": [
        "Путём диагонализации истинной матрицы ковариаций $C$, мы можем найти преобразование исходного набора данных, компоненты которого наилучшим образом будут описывать дисперсию, с учётом их ортогональности друг другу:"
      ]
    },
    {
      "cell_type": "code",
      "metadata": {
        "id": "TKo0PW5C-Bqc",
        "colab_type": "code",
        "colab": {
          "base_uri": "https://localhost:8080/",
          "height": 265
        },
        "outputId": "c532babc-3516-4bef-b936-8339dfe9ae36"
      },
      "source": [
        "v, W_true = np.linalg.eig(C)\n",
        "\n",
        "plt.scatter(data[:,0], data[:,1])\n",
        "# построим истинные компоненты, вдоль которых максимальна дисперсия данных\n",
        "plt.plot(data[:,0], (W_true[0,0]/W_true[0,1])*data[:,0], color=\"g\")\n",
        "plt.plot(data[:,0], (W_true[1,0]/W_true[1,1])*data[:,0], color=\"g\")\n",
        "g_patch = mpatches.Patch(color='g', label='True components')\n",
        "plt.legend(handles=[g_patch])\n",
        "plt.axis('equal')\n",
        "limits = [np.minimum(np.amin(data[:,0]), np.amin(data[:,1])),\n",
        "          np.maximum(np.amax(data[:,0]), np.amax(data[:,1]))]\n",
        "plt.xlim(limits[0],limits[1])\n",
        "plt.ylim(limits[0],limits[1])\n",
        "plt.draw()"
      ],
      "execution_count": 3,
      "outputs": [
        {
          "output_type": "display_data",
          "data": {
            "image/png": "[encoded data removed]",
            "text/plain": [
              "<Figure size 432x288 with 1 Axes>"
            ]
          },
          "metadata": {
            "tags": [],
            "needs_background": "light"
          }
        }
      ]
    },
    {
      "cell_type": "markdown",
      "metadata": {
        "id": "LCXvfX85-Bqo",
        "colab_type": "text"
      },
      "source": [
        "А теперь сравним эти направления с направлениями, которые выбирает метод главных компонент:"
      ]
    },
    {
      "cell_type": "code",
      "metadata": {
        "id": "1swsboKn-Bqp",
        "colab_type": "code",
        "colab": {}
      },
      "source": [
        "def plot_principal_components(data, model, scatter=True, legend=True):\n",
        "    W_pca = model.components_\n",
        "    if scatter:\n",
        "        plt.scatter(data[:,0], data[:,1])\n",
        "    plt.plot(data[:,0], -(W_pca[0,0]/W_pca[0,1])*data[:,0], color=\"c\")\n",
        "    plt.plot(data[:,0], -(W_pca[1,0]/W_pca[1,1])*data[:,0], color=\"c\")\n",
        "    if legend:\n",
        "        c_patch = mpatches.Patch(color='c', label='Principal components')\n",
        "        plt.legend(handles=[c_patch], loc='lower right')\n",
        "    # сделаем графики красивыми:\n",
        "    plt.axis('equal')\n",
        "    limits = [np.minimum(np.amin(data[:,0]), np.amin(data[:,1]))-0.5,\n",
        "              np.maximum(np.amax(data[:,0]), np.amax(data[:,1]))+0.5]\n",
        "    plt.xlim(limits[0],limits[1])\n",
        "    plt.ylim(limits[0],limits[1])\n",
        "    plt.draw()"
      ],
      "execution_count": 4,
      "outputs": []
    },
    {
      "cell_type": "code",
      "metadata": {
        "id": "33SfWhpl-Bqw",
        "colab_type": "code",
        "colab": {
          "base_uri": "https://localhost:8080/",
          "height": 265
        },
        "outputId": "740d5d96-7a70-4bc3-a100-990d5699e999"
      },
      "source": [
        "model = PCA(n_components=2)\n",
        "model.fit(data)\n",
        "\n",
        "plt.scatter(data[:,0], data[:,1])\n",
        "# построим истинные компоненты, вдоль которых максимальна дисперсия данных\n",
        "plt.plot(data[:,0], (W_true[0,0]/W_true[0,1])*data[:,0], color=\"g\")\n",
        "plt.plot(data[:,0], (W_true[1,0]/W_true[1,1])*data[:,0], color=\"g\")\n",
        "# построим компоненты, полученные с использованием метода PCA:\n",
        "plot_principal_components(data, model, scatter=False, legend=False)\n",
        "c_patch = mpatches.Patch(color='c', label='Principal components')\n",
        "plt.legend(handles=[g_patch, c_patch])\n",
        "plt.draw()"
      ],
      "execution_count": 5,
      "outputs": [
        {
          "output_type": "display_data",
          "data": {
            "image/png": "[encoded data removed]",
            "text/plain": [
              "<Figure size 432x288 with 1 Axes>"
            ]
          },
          "metadata": {
            "tags": [],
            "needs_background": "light"
          }
        }
      ]
    },
    {
      "cell_type": "markdown",
      "metadata": {
        "id": "TbSdbbUv-Bq-",
        "colab_type": "text"
      },
      "source": [
        "Видно, что уже при небольшом количестве данных они отличаются незначительно. Увеличим размер выборки:"
      ]
    },
    {
      "cell_type": "code",
      "metadata": {
        "id": "33In-Wky-BrD",
        "colab_type": "code",
        "colab": {
          "base_uri": "https://localhost:8080/",
          "height": 265
        },
        "outputId": "2334ea1d-f373-4fa8-d1ea-0570d31da4eb"
      },
      "source": [
        "data_large = np.random.multivariate_normal(mu, C, size=5000)\n",
        "\n",
        "model = PCA(n_components=2)\n",
        "model.fit(data_large)\n",
        "plt.scatter(data_large[:,0], data_large[:,1], alpha=0.1)\n",
        "# построим истинные компоненты, вдоль которых максимальна дисперсия данных\n",
        "plt.plot(data_large[:,0], (W_true[0,0]/W_true[0,1])*data_large[:,0], color=\"g\")\n",
        "plt.plot(data_large[:,0], (W_true[1,0]/W_true[1,1])*data_large[:,0], color=\"g\")\n",
        "# построим компоненты, полученные с использованием метода PCA:\n",
        "plot_principal_components(data_large, model, scatter=False, legend=False)\n",
        "c_patch = mpatches.Patch(color='c', label='Principal components')\n",
        "plt.legend(handles=[g_patch, c_patch])\n",
        "plt.draw()"
      ],
      "execution_count": 6,
      "outputs": [
        {
          "output_type": "display_data",
          "data": {
            "image/png": "[encoded data removed]",
            "text/plain": [
              "<Figure size 432x288 with 1 Axes>"
            ]
          },
          "metadata": {
            "tags": [],
            "needs_background": "light"
          }
        }
      ]
    },
    {
      "cell_type": "markdown",
      "metadata": {
        "id": "0Ghpk4UA-Brg",
        "colab_type": "text"
      },
      "source": [
        "В этом случае главные компоненты значительно точнее приближают истинные направления данных, вдоль которых наблюдается наибольшая дисперсия."
      ]
    },
    {
      "cell_type": "markdown",
      "metadata": {
        "id": "rIKOcXQJ-Brh",
        "colab_type": "text"
      },
      "source": [
        "## Статистический взгляд на модель\n",
        "\n",
        "Задача, стоящая за любым методом уменьшения размерности: получить из набора зашумлённых признаков $X$ истинные значения $Y$, которые на самом деле определяют набор данных (т.е. сведение датасета с большим количеством признаков к данным, имеющим т.н. \"эффективную размерность\").\n",
        "\n",
        "В случае метода главных компонент мы хотим найти направления, вдоль которых максимальна дисперсия, с учётом описанных выше предположений о структуре данных и компонент.\n",
        "\n",
        "С учётом предположений задача метода главных компонент выглядит следующим образом:\n",
        "\n",
        "$$ x = Wy + \\mu + \\epsilon$$\n",
        "\n",
        "где:\n",
        "- $x$ -- наблюдаемые данные\n",
        "- $W$ -- матрица главных компонент (каждый стобец -- одна компонента)\n",
        "- $y$ -- их проекция на главные компоненты\n",
        "- $\\mu$ -- среднее наблюдаемых данных\n",
        "- $\\epsilon \\sim \\mathcal{N}(0, \\sigma^2I)$ -- нормальный шум\n",
        "\n",
        "Исходя из распределения шума, выпишем распределение на $x$:\n",
        "\n",
        "$$p(x \\mid y) = \\mathcal{N}(Wx + \\mu, \\sigma^2I) $$\n",
        "\n",
        "Введём априорное распределение на $y$:\n",
        "\n",
        "$$p(y) = \\mathcal{N}(0, 1)$$\n",
        "\n",
        "Выведем из этого при помощи формулы Байеса маргинальное распределение на $p(x)$:\n",
        "\n",
        "$$p(x) = \\mathcal{N}(\\mu, \\sigma^2I + WW^T)$$\n",
        "\n",
        "Тогда правдоподобие набора данных при условии используемой модели выглядит следующим образом:\n",
        "\n",
        "$$\\mathcal{L} = \\sum_{i=1}^N \\log p(x_i) = -N/2 \\Big( d\\log(2\\pi) + \\log |C| + \\text{tr}(C^{-1}S) \\Big)$$\n",
        "\n",
        "где:\n",
        "- $C = \\sigma^2I + WW^T$ -- матрица ковариации в маргинальной модели\n",
        "- $S = \\frac{1}{N} \\sum_{i=1}^N (x_i - \\mu)(x_i - \\mu)^T$ -- выборочная ковариация\n",
        "\n",
        "Значение $\\mathcal{L}$ имеет смысл логарифма вероятности получения набора данных $X$ при условии, что он удовлетворяет предположениям модели метода главных компонент. Чем оно больше -- тем лучше модель описывает наблюдаемые данные."
      ]
    },
    {
      "cell_type": "markdown",
      "metadata": {
        "id": "V0j5uxQg-Brj",
        "colab_type": "text"
      },
      "source": [
        "## 1. Автоматическое уменьшение размерности данных при помощи логарифма правдоподобия $\\mathcal{L}$\n",
        "\n",
        "Рассмотрим набор данных размерности $D$, чья реальная размерность значительно меньше наблюдаемой (назовём её $d$). От вас требуется:\n",
        "\n",
        "1. Для каждого значения $\\hat{d}$ в интервале [1,D] построить модель PCA с $\\hat{d}$ главными компонентами.\n",
        "2. Оценить средний логарифм правдоподобия данных для каждой модели на генеральной совокупности, используя метод кросс-валидации с 3 фолдами (итоговая оценка значения логарифма правдоподобия усредняется по всем фолдам).\n",
        "3. Найти модель, для которой он максимален, и внести в файл ответа число компонент в данной модели, т.е. значение $\\hat{d}_{opt}$.\n",
        "\n"
      ]
    },
    {
      "cell_type": "code",
      "metadata": {
        "id": "kWlyjmE6-Brk",
        "colab_type": "code",
        "colab": {
          "base_uri": "https://localhost:8080/",
          "height": 127
        },
        "outputId": "71fff6b7-d8fd-47ae-f156-25dadb410ada"
      },
      "source": [
        "from sklearn.decomposition import PCA\n",
        "from sklearn.model_selection import cross_val_score as cv_score\n",
        "\n",
        "def plot_scores(d_scores):\n",
        "    n_components = np.arange(1,d_scores.size+1)\n",
        "    plt.plot(n_components, d_scores, 'b', label='PCA scores')\n",
        "    plt.xlim(n_components[0], n_components[-1])\n",
        "    plt.xlabel('n components')\n",
        "    plt.ylabel('cv scores')\n",
        "    plt.legend(loc='lower right')\n",
        "    plt.show()\n",
        "    \n",
        "        \n",
        "data = pd.read_csv('data_task1.csv')\n",
        "\n",
        "data.head(2)"
      ],
      "execution_count": 7,
      "outputs": [
        {
          "output_type": "execute_result",
          "data": {
            "text/html": [
              "<div>\n",
              "<style scoped>\n",
              "    .dataframe tbody tr th:only-of-type {\n",
              "        vertical-align: middle;\n",
              "    }\n",
              "\n",
              "    .dataframe tbody tr th {\n",
              "        vertical-align: top;\n",
              "    }\n",
              "\n",
              "    .dataframe thead th {\n",
              "        text-align: right;\n",
              "    }\n",
              "</style>\n",
              "<table border=\"1\" class=\"dataframe\">\n",
              "  <thead>\n",
              "    <tr style=\"text-align: right;\">\n",
              "      <th></th>\n",
              "      <th>0</th>\n",
              "      <th>1</th>\n",
              "      <th>2</th>\n",
              "      <th>3</th>\n",
              "      <th>4</th>\n",
              "      <th>5</th>\n",
              "      <th>6</th>\n",
              "      <th>7</th>\n",
              "      <th>8</th>\n",
              "      <th>9</th>\n",
              "      <th>10</th>\n",
              "      <th>11</th>\n",
              "      <th>12</th>\n",
              "      <th>13</th>\n",
              "      <th>14</th>\n",
              "      <th>15</th>\n",
              "      <th>16</th>\n",
              "      <th>17</th>\n",
              "      <th>18</th>\n",
              "      <th>19</th>\n",
              "      <th>20</th>\n",
              "      <th>21</th>\n",
              "      <th>22</th>\n",
              "      <th>23</th>\n",
              "      <th>24</th>\n",
              "      <th>25</th>\n",
              "      <th>26</th>\n",
              "      <th>27</th>\n",
              "      <th>28</th>\n",
              "      <th>29</th>\n",
              "      <th>30</th>\n",
              "      <th>31</th>\n",
              "      <th>32</th>\n",
              "      <th>33</th>\n",
              "      <th>34</th>\n",
              "      <th>35</th>\n",
              "      <th>36</th>\n",
              "      <th>37</th>\n",
              "      <th>38</th>\n",
              "      <th>39</th>\n",
              "      <th>40</th>\n",
              "      <th>41</th>\n",
              "      <th>42</th>\n",
              "      <th>43</th>\n",
              "      <th>44</th>\n",
              "      <th>45</th>\n",
              "      <th>46</th>\n",
              "      <th>47</th>\n",
              "      <th>48</th>\n",
              "      <th>49</th>\n",
              "      <th>50</th>\n",
              "      <th>51</th>\n",
              "      <th>52</th>\n",
              "      <th>53</th>\n",
              "      <th>54</th>\n",
              "      <th>55</th>\n",
              "      <th>56</th>\n",
              "      <th>57</th>\n",
              "      <th>58</th>\n",
              "      <th>59</th>\n",
              "      <th>60</th>\n",
              "      <th>61</th>\n",
              "      <th>62</th>\n",
              "      <th>63</th>\n",
              "      <th>64</th>\n",
              "      <th>65</th>\n",
              "      <th>66</th>\n",
              "      <th>67</th>\n",
              "      <th>68</th>\n",
              "      <th>69</th>\n",
              "      <th>70</th>\n",
              "      <th>71</th>\n",
              "      <th>72</th>\n",
              "      <th>73</th>\n",
              "      <th>74</th>\n",
              "      <th>75</th>\n",
              "      <th>76</th>\n",
              "      <th>77</th>\n",
              "      <th>78</th>\n",
              "      <th>79</th>\n",
              "    </tr>\n",
              "  </thead>\n",
              "  <tbody>\n",
              "    <tr>\n",
              "      <th>0</th>\n",
              "      <td>-0.238399</td>\n",
              "      <td>-1.311330</td>\n",
              "      <td>-0.782298</td>\n",
              "      <td>-0.341821</td>\n",
              "      <td>0.469353</td>\n",
              "      <td>-0.431860</td>\n",
              "      <td>0.602948</td>\n",
              "      <td>1.220206</td>\n",
              "      <td>1.525103</td>\n",
              "      <td>-0.991354</td>\n",
              "      <td>0.052124</td>\n",
              "      <td>-1.022019</td>\n",
              "      <td>0.483689</td>\n",
              "      <td>1.839115</td>\n",
              "      <td>-0.212797</td>\n",
              "      <td>0.529358</td>\n",
              "      <td>1.971039</td>\n",
              "      <td>0.114109</td>\n",
              "      <td>0.170909</td>\n",
              "      <td>1.788982</td>\n",
              "      <td>-0.778684</td>\n",
              "      <td>-0.605283</td>\n",
              "      <td>-1.571049</td>\n",
              "      <td>0.363071</td>\n",
              "      <td>-0.828969</td>\n",
              "      <td>0.696452</td>\n",
              "      <td>0.376948</td>\n",
              "      <td>-1.144336</td>\n",
              "      <td>-1.579117</td>\n",
              "      <td>0.966647</td>\n",
              "      <td>0.656716</td>\n",
              "      <td>-2.487433</td>\n",
              "      <td>2.094562</td>\n",
              "      <td>0.773147</td>\n",
              "      <td>-0.305943</td>\n",
              "      <td>-0.114573</td>\n",
              "      <td>0.551310</td>\n",
              "      <td>0.511711</td>\n",
              "      <td>-0.243574</td>\n",
              "      <td>0.413818</td>\n",
              "      <td>-0.864634</td>\n",
              "      <td>-0.489771</td>\n",
              "      <td>0.047614</td>\n",
              "      <td>-0.149748</td>\n",
              "      <td>1.022491</td>\n",
              "      <td>0.777445</td>\n",
              "      <td>2.069198</td>\n",
              "      <td>-0.328999</td>\n",
              "      <td>0.576232</td>\n",
              "      <td>1.674856</td>\n",
              "      <td>0.959735</td>\n",
              "      <td>-0.557136</td>\n",
              "      <td>-0.345472</td>\n",
              "      <td>1.749801</td>\n",
              "      <td>-0.698369</td>\n",
              "      <td>0.476349</td>\n",
              "      <td>-0.046956</td>\n",
              "      <td>0.963481</td>\n",
              "      <td>-2.13306</td>\n",
              "      <td>-0.974819</td>\n",
              "      <td>-0.798078</td>\n",
              "      <td>1.108247</td>\n",
              "      <td>0.082940</td>\n",
              "      <td>-0.157015</td>\n",
              "      <td>0.526050</td>\n",
              "      <td>-0.929391</td>\n",
              "      <td>1.097853</td>\n",
              "      <td>-0.712134</td>\n",
              "      <td>0.737989</td>\n",
              "      <td>-0.342325</td>\n",
              "      <td>-0.559927</td>\n",
              "      <td>-0.532534</td>\n",
              "      <td>-0.465923</td>\n",
              "      <td>0.874697</td>\n",
              "      <td>-0.108972</td>\n",
              "      <td>-0.080328</td>\n",
              "      <td>0.448971</td>\n",
              "      <td>2.080754</td>\n",
              "      <td>-1.535373</td>\n",
              "      <td>-0.460125</td>\n",
              "    </tr>\n",
              "    <tr>\n",
              "      <th>1</th>\n",
              "      <td>-0.223940</td>\n",
              "      <td>-1.277836</td>\n",
              "      <td>-0.202433</td>\n",
              "      <td>-0.317682</td>\n",
              "      <td>0.081900</td>\n",
              "      <td>-0.624267</td>\n",
              "      <td>-0.577119</td>\n",
              "      <td>-0.489564</td>\n",
              "      <td>0.704099</td>\n",
              "      <td>-0.511071</td>\n",
              "      <td>0.076101</td>\n",
              "      <td>-1.217522</td>\n",
              "      <td>-0.477477</td>\n",
              "      <td>0.220850</td>\n",
              "      <td>0.966988</td>\n",
              "      <td>-0.279581</td>\n",
              "      <td>-0.205285</td>\n",
              "      <td>0.661044</td>\n",
              "      <td>0.758141</td>\n",
              "      <td>1.778832</td>\n",
              "      <td>-1.408703</td>\n",
              "      <td>-1.078691</td>\n",
              "      <td>1.279688</td>\n",
              "      <td>-1.539207</td>\n",
              "      <td>2.135928</td>\n",
              "      <td>1.717498</td>\n",
              "      <td>0.970281</td>\n",
              "      <td>-2.194893</td>\n",
              "      <td>-0.676945</td>\n",
              "      <td>0.122432</td>\n",
              "      <td>2.378683</td>\n",
              "      <td>1.713591</td>\n",
              "      <td>1.040545</td>\n",
              "      <td>-1.885866</td>\n",
              "      <td>-0.101027</td>\n",
              "      <td>0.262832</td>\n",
              "      <td>-1.398324</td>\n",
              "      <td>-2.024518</td>\n",
              "      <td>-0.054175</td>\n",
              "      <td>-1.400390</td>\n",
              "      <td>-2.753080</td>\n",
              "      <td>1.232945</td>\n",
              "      <td>2.067792</td>\n",
              "      <td>-1.506606</td>\n",
              "      <td>-0.231031</td>\n",
              "      <td>0.539077</td>\n",
              "      <td>0.820004</td>\n",
              "      <td>0.239548</td>\n",
              "      <td>-0.651596</td>\n",
              "      <td>1.925601</td>\n",
              "      <td>-1.241511</td>\n",
              "      <td>-0.125445</td>\n",
              "      <td>0.422991</td>\n",
              "      <td>-1.573660</td>\n",
              "      <td>0.381451</td>\n",
              "      <td>2.019609</td>\n",
              "      <td>2.177119</td>\n",
              "      <td>0.141252</td>\n",
              "      <td>-0.41631</td>\n",
              "      <td>0.997323</td>\n",
              "      <td>0.191239</td>\n",
              "      <td>-0.021367</td>\n",
              "      <td>0.722569</td>\n",
              "      <td>0.739358</td>\n",
              "      <td>-1.151793</td>\n",
              "      <td>-0.567762</td>\n",
              "      <td>-1.889817</td>\n",
              "      <td>-1.785572</td>\n",
              "      <td>-1.642833</td>\n",
              "      <td>-0.952549</td>\n",
              "      <td>-0.055943</td>\n",
              "      <td>-2.208109</td>\n",
              "      <td>0.027813</td>\n",
              "      <td>-1.663044</td>\n",
              "      <td>0.018190</td>\n",
              "      <td>-0.432993</td>\n",
              "      <td>1.204321</td>\n",
              "      <td>0.705121</td>\n",
              "      <td>-1.106140</td>\n",
              "      <td>0.145533</td>\n",
              "    </tr>\n",
              "  </tbody>\n",
              "</table>\n",
              "</div>"
            ],
            "text/plain": [
              "          0         1         2  ...        77        78        79\n",
              "0 -0.238399 -1.311330 -0.782298  ...  2.080754 -1.535373 -0.460125\n",
              "1 -0.223940 -1.277836 -0.202433  ...  0.705121 -1.106140  0.145533\n",
              "\n",
              "[2 rows x 80 columns]"
            ]
          },
          "metadata": {
            "tags": []
          },
          "execution_count": 7
        }
      ]
    },
    {
      "cell_type": "code",
      "metadata": {
        "id": "vVb0L2r_6vtq",
        "colab_type": "code",
        "colab": {}
      },
      "source": [
        "arr_s = []\n",
        "for d in range(1,data.shape[1]+1):\n",
        "    model_1 = PCA(n_components=d)\n",
        "    model_1.fit(data)\n",
        "    res = cv_score(model_1, data, cv=3)\n",
        "    arr_s.append(res.mean())"
      ],
      "execution_count": 8,
      "outputs": []
    },
    {
      "cell_type": "code",
      "metadata": {
        "id": "QKE4c6MT60fp",
        "colab_type": "code",
        "colab": {
          "base_uri": "https://localhost:8080/",
          "height": 282
        },
        "outputId": "8067f0c3-03fa-494e-b317-f7b83c1bb7a9"
      },
      "source": [
        "plot_scores(np.array(arr_s))"
      ],
      "execution_count": 9,
      "outputs": [
        {
          "output_type": "display_data",
          "data": {
            "image/png": "[encoded data removed]",
            "text/plain": [
              "<Figure size 432x288 with 1 Axes>"
            ]
          },
          "metadata": {
            "tags": [],
            "needs_background": "light"
          }
        }
      ]
    },
    {
      "cell_type": "code",
      "metadata": {
        "id": "iBbfEz_M60s8",
        "colab_type": "code",
        "colab": {
          "base_uri": "https://localhost:8080/",
          "height": 33
        },
        "outputId": "e0888089-0c4d-4dd5-824c-82ba754785c7"
      },
      "source": [
        "arr_s.index(max(arr_s))+1"
      ],
      "execution_count": 10,
      "outputs": [
        {
          "output_type": "execute_result",
          "data": {
            "text/plain": [
              "20"
            ]
          },
          "metadata": {
            "tags": []
          },
          "execution_count": 10
        }
      ]
    },
    {
      "cell_type": "markdown",
      "metadata": {
        "id": "SHVjctz9-Br7",
        "colab_type": "text"
      },
      "source": [
        "## Вариационный взгляд на модель\n",
        "\n",
        "Мы знаем, что каждой главной компоненте соответствует описываемая ей дисперсия данных (дисперсия данных при проекции на эту компоненту). Она численно равна значению диагональных элементов матрицы $\\Lambda$, получаемой из спектрального разложения матрицы ковариации данных (смотри теорию выше).\n",
        "\n",
        "Исходя из этого, мы можем отсортировать дисперсию данных вдоль этих компонент по убыванию, и уменьшить размерность данных, отбросив $q$ итоговых главных компонент, имеющих наименьшую дисперсию.\n",
        "\n",
        "Делать это можно двумя разными способами. Например, если вы вдальнейшем обучаете на данных с уменьшенной размерностью модель классификации или регрессии, то можно запустить итерационный процесс: удалять компоненты с наименьшей дисперсией по одной, пока качество итоговой модели не станет значительно хуже.\n",
        "\n",
        "Более общий способ отбора признаков заключается в том, что вы можете посмотреть на разности в дисперсиях в отсортированном ряде $\\lambda_{(1)} > \\lambda_{(2)} > \\dots > \\lambda_{(D)}$: $\\lambda_{(1)}-\\lambda_{(2)}, \\dots, \\lambda_{(D-1)} - \\lambda_{(D)}$, и удалить те компоненты, на которых разность будет наибольшей. Именно этим методом вам и предлагается воспользоваться для тестового набора данных."
      ]
    },
    {
      "cell_type": "markdown",
      "metadata": {
        "id": "49PZMo0s-Br-",
        "colab_type": "text"
      },
      "source": [
        "## 2. Ручное уменьшение размерности признаков посредством анализа дисперсии данных вдоль главных компонент\n",
        "\n",
        "Рассмотрим ещё один набор данных размерности $D$, чья реальная размерность значительно меньше наблюдаемой (назовём её также $d$). От вас требуется:\n",
        "\n",
        "1. Построить модель PCA с $D$ главными компонентами по этим данным.\n",
        "2. Спроецировать данные на главные компоненты.\n",
        "3. Оценить их дисперсию вдоль главных компонент.\n",
        "4. Отсортировать дисперсии в порядке убывания и получить их попарные разности: $\\lambda_{(i-1)} - \\lambda_{(i)}$.\n",
        "5. Найти разность с наибольшим значением и получить по ней оценку на эффективную размерность данных $\\hat{d}$.\n",
        "6. Построить график дисперсий и убедиться, что полученная оценка на $\\hat{d}_{opt}$ действительно имеет смысл, после этого внести полученное значение $\\hat{d}_{opt}$ в файл ответа.\n",
        "\n"
      ]
    },
    {
      "cell_type": "code",
      "metadata": {
        "id": "dWZU4I5G-BsA",
        "colab_type": "code",
        "colab": {
          "base_uri": "https://localhost:8080/",
          "height": 126
        },
        "outputId": "5e2e6f1e-fb8f-4cf1-bc27-0cd4a68c09b6"
      },
      "source": [
        "from sklearn.decomposition import PCA\n",
        "from sklearn.model_selection import cross_val_score as cv_score\n",
        "\n",
        "def plot_variances(d_variances):\n",
        "    n_components = np.arange(1,d_variances.size+1)\n",
        "    plt.plot(n_components, d_variances, 'b', label='Component variances')\n",
        "    plt.xlim(n_components[0], n_components[-1])\n",
        "    plt.xlabel('n components')\n",
        "    plt.ylabel('variance')\n",
        "    plt.legend(loc='upper right')\n",
        "    plt.show()\n",
        "    \n",
        "\n",
        "data = pd.read_csv('data_task2.csv')\n",
        "\n",
        "data.head(1)"
      ],
      "execution_count": 11,
      "outputs": [
        {
          "output_type": "execute_result",
          "data": {
            "text/html": [
              "<div>\n",
              "<style scoped>\n",
              "    .dataframe tbody tr th:only-of-type {\n",
              "        vertical-align: middle;\n",
              "    }\n",
              "\n",
              "    .dataframe tbody tr th {\n",
              "        vertical-align: top;\n",
              "    }\n",
              "\n",
              "    .dataframe thead th {\n",
              "        text-align: right;\n",
              "    }\n",
              "</style>\n",
              "<table border=\"1\" class=\"dataframe\">\n",
              "  <thead>\n",
              "    <tr style=\"text-align: right;\">\n",
              "      <th></th>\n",
              "      <th>0</th>\n",
              "      <th>1</th>\n",
              "      <th>2</th>\n",
              "      <th>3</th>\n",
              "      <th>4</th>\n",
              "      <th>5</th>\n",
              "      <th>6</th>\n",
              "      <th>7</th>\n",
              "      <th>8</th>\n",
              "      <th>9</th>\n",
              "      <th>10</th>\n",
              "      <th>11</th>\n",
              "      <th>12</th>\n",
              "      <th>13</th>\n",
              "      <th>14</th>\n",
              "      <th>15</th>\n",
              "      <th>16</th>\n",
              "      <th>17</th>\n",
              "      <th>18</th>\n",
              "      <th>19</th>\n",
              "      <th>20</th>\n",
              "      <th>21</th>\n",
              "      <th>22</th>\n",
              "      <th>23</th>\n",
              "      <th>24</th>\n",
              "      <th>25</th>\n",
              "      <th>26</th>\n",
              "      <th>27</th>\n",
              "      <th>28</th>\n",
              "      <th>29</th>\n",
              "      <th>30</th>\n",
              "      <th>31</th>\n",
              "      <th>32</th>\n",
              "      <th>33</th>\n",
              "      <th>34</th>\n",
              "      <th>35</th>\n",
              "      <th>36</th>\n",
              "      <th>37</th>\n",
              "      <th>38</th>\n",
              "      <th>39</th>\n",
              "      <th>...</th>\n",
              "      <th>60</th>\n",
              "      <th>61</th>\n",
              "      <th>62</th>\n",
              "      <th>63</th>\n",
              "      <th>64</th>\n",
              "      <th>65</th>\n",
              "      <th>66</th>\n",
              "      <th>67</th>\n",
              "      <th>68</th>\n",
              "      <th>69</th>\n",
              "      <th>70</th>\n",
              "      <th>71</th>\n",
              "      <th>72</th>\n",
              "      <th>73</th>\n",
              "      <th>74</th>\n",
              "      <th>75</th>\n",
              "      <th>76</th>\n",
              "      <th>77</th>\n",
              "      <th>78</th>\n",
              "      <th>79</th>\n",
              "      <th>80</th>\n",
              "      <th>81</th>\n",
              "      <th>82</th>\n",
              "      <th>83</th>\n",
              "      <th>84</th>\n",
              "      <th>85</th>\n",
              "      <th>86</th>\n",
              "      <th>87</th>\n",
              "      <th>88</th>\n",
              "      <th>89</th>\n",
              "      <th>90</th>\n",
              "      <th>91</th>\n",
              "      <th>92</th>\n",
              "      <th>93</th>\n",
              "      <th>94</th>\n",
              "      <th>95</th>\n",
              "      <th>96</th>\n",
              "      <th>97</th>\n",
              "      <th>98</th>\n",
              "      <th>99</th>\n",
              "    </tr>\n",
              "  </thead>\n",
              "  <tbody>\n",
              "    <tr>\n",
              "      <th>0</th>\n",
              "      <td>0.848776</td>\n",
              "      <td>-0.666596</td>\n",
              "      <td>-0.724109</td>\n",
              "      <td>-0.58437</td>\n",
              "      <td>-0.460105</td>\n",
              "      <td>1.161415</td>\n",
              "      <td>-0.15316</td>\n",
              "      <td>-2.253871</td>\n",
              "      <td>1.375337</td>\n",
              "      <td>0.561841</td>\n",
              "      <td>0.381729</td>\n",
              "      <td>1.900441</td>\n",
              "      <td>-0.135837</td>\n",
              "      <td>-0.026643</td>\n",
              "      <td>0.009338</td>\n",
              "      <td>-1.617211</td>\n",
              "      <td>0.985996</td>\n",
              "      <td>-1.242231</td>\n",
              "      <td>-2.103736</td>\n",
              "      <td>-3.565094</td>\n",
              "      <td>-0.246202</td>\n",
              "      <td>0.422587</td>\n",
              "      <td>0.974145</td>\n",
              "      <td>-1.542693</td>\n",
              "      <td>2.320018</td>\n",
              "      <td>-0.21981</td>\n",
              "      <td>-0.280739</td>\n",
              "      <td>-0.451194</td>\n",
              "      <td>-0.207078</td>\n",
              "      <td>-2.083259</td>\n",
              "      <td>0.567692</td>\n",
              "      <td>1.463887</td>\n",
              "      <td>1.719519</td>\n",
              "      <td>0.88093</td>\n",
              "      <td>-1.368598</td>\n",
              "      <td>-2.10652</td>\n",
              "      <td>0.686</td>\n",
              "      <td>-0.022484</td>\n",
              "      <td>-0.345174</td>\n",
              "      <td>0.821882</td>\n",
              "      <td>...</td>\n",
              "      <td>-1.185593</td>\n",
              "      <td>-0.69988</td>\n",
              "      <td>1.34121</td>\n",
              "      <td>-1.054797</td>\n",
              "      <td>-0.686577</td>\n",
              "      <td>-1.122503</td>\n",
              "      <td>1.416176</td>\n",
              "      <td>-0.636326</td>\n",
              "      <td>0.199812</td>\n",
              "      <td>-0.73057</td>\n",
              "      <td>1.664636</td>\n",
              "      <td>-0.10757</td>\n",
              "      <td>-1.231688</td>\n",
              "      <td>-0.295177</td>\n",
              "      <td>0.704968</td>\n",
              "      <td>-1.571668</td>\n",
              "      <td>-0.734825</td>\n",
              "      <td>-1.155819</td>\n",
              "      <td>-0.106416</td>\n",
              "      <td>1.703348</td>\n",
              "      <td>1.202358</td>\n",
              "      <td>0.323535</td>\n",
              "      <td>-1.633912</td>\n",
              "      <td>-0.132446</td>\n",
              "      <td>-1.025989</td>\n",
              "      <td>1.000814</td>\n",
              "      <td>-0.365115</td>\n",
              "      <td>-1.090939</td>\n",
              "      <td>1.066112</td>\n",
              "      <td>1.691028</td>\n",
              "      <td>1.328021</td>\n",
              "      <td>0.615259</td>\n",
              "      <td>1.447412</td>\n",
              "      <td>1.1776</td>\n",
              "      <td>-0.643321</td>\n",
              "      <td>0.005454</td>\n",
              "      <td>-1.075457</td>\n",
              "      <td>0.636591</td>\n",
              "      <td>0.075188</td>\n",
              "      <td>-0.461723</td>\n",
              "    </tr>\n",
              "  </tbody>\n",
              "</table>\n",
              "<p>1 rows × 100 columns</p>\n",
              "</div>"
            ],
            "text/plain": [
              "          0         1         2  ...        97        98        99\n",
              "0  0.848776 -0.666596 -0.724109  ...  0.636591  0.075188 -0.461723\n",
              "\n",
              "[1 rows x 100 columns]"
            ]
          },
          "metadata": {
            "tags": []
          },
          "execution_count": 11
        }
      ]
    },
    {
      "cell_type": "code",
      "metadata": {
        "id": "pliQI6xx7cvM",
        "colab_type": "code",
        "colab": {
          "base_uri": "https://localhost:8080/",
          "height": 302
        },
        "outputId": "bb069d01-515d-4691-8547-97f8670f80ca"
      },
      "source": [
        "d=data.shape[1]\n",
        "model_2 = PCA(n_components=d)\n",
        "model_2.fit(data)\n",
        "data_2a = model_2.transform(data)\n",
        "std_value = np.std(data_2a, axis=0)\n",
        "print(std_value.shape)\n",
        "razn = (0,0)\n",
        "for x in range(1, std_value.shape[0]):\n",
        "    razn = (abs(std_value[x] - std_value[x-1]), x) if abs(std_value[x] - std_value[x-1])>razn[0] else razn\n",
        "\n",
        "plot_variances(std_value)"
      ],
      "execution_count": 12,
      "outputs": [
        {
          "output_type": "stream",
          "text": [
            "(100,)\n"
          ],
          "name": "stdout"
        },
        {
          "output_type": "display_data",
          "data": {
            "image/png": "[encoded data removed]",
            "text/plain": [
              "<Figure size 432x288 with 1 Axes>"
            ]
          },
          "metadata": {
            "tags": [],
            "needs_background": "light"
          }
        }
      ]
    },
    {
      "cell_type": "code",
      "metadata": {
        "id": "NSkEjq1O7gUP",
        "colab_type": "code",
        "colab": {
          "base_uri": "https://localhost:8080/",
          "height": 33
        },
        "outputId": "c27071f9-c899-497b-b5b9-4dbb6b7d0632"
      },
      "source": [
        "razn[1]"
      ],
      "execution_count": 13,
      "outputs": [
        {
          "output_type": "execute_result",
          "data": {
            "text/plain": [
              "30"
            ]
          },
          "metadata": {
            "tags": []
          },
          "execution_count": 13
        }
      ]
    },
    {
      "cell_type": "markdown",
      "metadata": {
        "id": "19h16UB1-BsU",
        "colab_type": "text"
      },
      "source": [
        "## Интерпретация главных компонент\n",
        "\n",
        "В качестве главных компонент мы получаем линейные комбинации исходных призанков, поэтому резонно возникает вопрос об их интерпретации.\n",
        "\n",
        "Для этого существует несколько подходов, мы рассмотрим два:\n",
        "- рассчитать взаимосвязи главных компонент с исходными признаками\n",
        "- рассчитать вклады каждого конкретного наблюдения в главные компоненты\n",
        "\n",
        "Первый способ подходит в том случае, когда все объекты из набора данных не несут для нас никакой семантической информации, которая уже не запечатлена в наборе признаков.\n",
        "\n",
        "Второй способ подходит для случая, когда данные имеют более сложную структуру. Например, лица для человека несут больший семантический смысл, чем вектор значений пикселей, которые анализирует PCA.\n",
        "\n",
        "Рассмотрим подробнее способ 1: он заключается в подсчёте коэффициентов корреляций между исходными признаками и набором главных компонент.\n",
        "\n",
        "Так как метод главных компонент является линейным, то предлагается для анализа использовать корреляцию Пирсона, выборочный аналог которой имеет следующую формулу:\n",
        "\n",
        "$$r_{jk} = \\frac{\\sum_{i=1}^N (x_{ij} - \\bar{x}_j) (y_{ik} - \\bar{y}_k)}{\\sqrt{\\sum_{i=1}^N (x_{ij} - \\bar{x}_j)^2 \\sum_{i=1}^N (y_{ik} - \\bar{y}_k)^2}} $$\n",
        "\n",
        "где:\n",
        "- $\\bar{x}_j$ -- среднее значение j-го признака,\n",
        "- $\\bar{y}_k$ -- среднее значение проекции на k-ю главную компоненту.\n",
        "\n",
        "Корреляция Пирсона является мерой линейной зависимости. Она равна 0 в случае, когда величины независимы, и $\\pm 1$, если они линейно зависимы. Исходя из степени корреляции новой компоненты с исходными признаками, можно строить её семантическую интерпретацию, т.к. смысл исходных признаков мы знаем."
      ]
    },
    {
      "cell_type": "markdown",
      "metadata": {
        "id": "IESdNSaF-BsW",
        "colab_type": "text"
      },
      "source": [
        "## 3. Анализ главных компонент при помощи корреляций с исходными признаками.\n",
        "\n",
        "1. Обучите метод главных компонент на датасете iris, получите преобразованные данные.\n",
        "2. Посчитайте корреляции исходных признаков с их проекциями на первые две главные компоненты.\n",
        "3. Для каждого признака найдите компоненту (из двух построенных), с которой он коррелирует больше всего.\n",
        "4. На основании п.3 сгруппируйте признаки по компонентам. Составьте два списка: список номеров признаков, которые сильнее коррелируют с первой компонентой, и такой же список для второй. Нумерацию начинать с единицы. \n",
        "\n"
      ]
    },
    {
      "cell_type": "code",
      "metadata": {
        "id": "AzkMNU9h-BsY",
        "colab_type": "code",
        "colab": {}
      },
      "source": [
        "from sklearn import datasets\n",
        "\n",
        "def plot_iris(transformed_data, target, target_names):\n",
        "    plt.figure()\n",
        "    for c, i, target_name in zip(\"rgb\", [0, 1, 2], target_names):\n",
        "        plt.scatter(transformed_data[target == i, 0],\n",
        "                    transformed_data[target == i, 1], c=c, label=target_name)\n",
        "    plt.legend()\n",
        "    plt.show()\n",
        "    \n",
        "\n",
        "\n",
        "# загрузим датасет iris\n",
        "iris = datasets.load_iris()\n",
        "data = iris.data\n",
        "target = iris.target\n",
        "target_names = iris.target_names\n",
        "\n",
        "# Обучим модель, преобразуем данные\n",
        "model_3 = PCA()\n",
        "model_3.fit(data)\n",
        "data_3a = model_3.transform(data)"
      ],
      "execution_count": 14,
      "outputs": []
    },
    {
      "cell_type": "code",
      "metadata": {
        "id": "7RCa4keg77_K",
        "colab_type": "code",
        "colab": {
          "base_uri": "https://localhost:8080/",
          "height": 269
        },
        "outputId": "1abf9b84-1866-4ec0-e58e-680ae24b6757"
      },
      "source": [
        "# График проекций на компоненты\n",
        "plot_iris(data_3a, target, target_names)"
      ],
      "execution_count": 15,
      "outputs": [
        {
          "output_type": "display_data",
          "data": {
            "image/png": "[encoded data removed]",
            "text/plain": [
              "<Figure size 432x288 with 1 Axes>"
            ]
          },
          "metadata": {
            "tags": [],
            "needs_background": "light"
          }
        }
      ]
    },
    {
      "cell_type": "code",
      "metadata": {
        "id": "qj9F_Z5B7_L1",
        "colab_type": "code",
        "colab": {}
      },
      "source": [
        "from sklearn.preprocessing import StandardScaler\n",
        "\n",
        "scaler_1 = StandardScaler()\n",
        "data_scaled = scaler_1.fit_transform(data)\n",
        "\n",
        "scaler_2 = StandardScaler()\n",
        "data3a_scaled = scaler_2.fit_transform(data_3a)"
      ],
      "execution_count": 16,
      "outputs": []
    },
    {
      "cell_type": "code",
      "metadata": {
        "id": "TrluA_MS7_WU",
        "colab_type": "code",
        "colab": {
          "base_uri": "https://localhost:8080/",
          "height": 166
        },
        "outputId": "f61e0d3c-b941-4fdd-9b1d-baba94ba2f06"
      },
      "source": [
        "# корреляции исходных признаков с их проекциями на первые две главные компоненты.\n",
        "\n",
        "xj_ave, yk_ave = data.mean(0), data_3a.mean(0)\n",
        "cor_m = [[sum(data_scaled[:,j]*data3a_scaled[:,k])/(sum(data_scaled[:,j]**2)*sum((data3a_scaled[:,k])**2))**0.5 for k in range(2)] for j in range(data.shape[1])]     \n",
        "df = pd.DataFrame(cor_m)\n",
        "df"
      ],
      "execution_count": 17,
      "outputs": [
        {
          "output_type": "execute_result",
          "data": {
            "text/html": [
              "<div>\n",
              "<style scoped>\n",
              "    .dataframe tbody tr th:only-of-type {\n",
              "        vertical-align: middle;\n",
              "    }\n",
              "\n",
              "    .dataframe tbody tr th {\n",
              "        vertical-align: top;\n",
              "    }\n",
              "\n",
              "    .dataframe thead th {\n",
              "        text-align: right;\n",
              "    }\n",
              "</style>\n",
              "<table border=\"1\" class=\"dataframe\">\n",
              "  <thead>\n",
              "    <tr style=\"text-align: right;\">\n",
              "      <th></th>\n",
              "      <th>0</th>\n",
              "      <th>1</th>\n",
              "    </tr>\n",
              "  </thead>\n",
              "  <tbody>\n",
              "    <tr>\n",
              "      <th>0</th>\n",
              "      <td>0.897402</td>\n",
              "      <td>0.390604</td>\n",
              "    </tr>\n",
              "    <tr>\n",
              "      <th>1</th>\n",
              "      <td>-0.398748</td>\n",
              "      <td>0.825229</td>\n",
              "    </tr>\n",
              "    <tr>\n",
              "      <th>2</th>\n",
              "      <td>0.997874</td>\n",
              "      <td>-0.048381</td>\n",
              "    </tr>\n",
              "    <tr>\n",
              "      <th>3</th>\n",
              "      <td>0.966548</td>\n",
              "      <td>-0.048782</td>\n",
              "    </tr>\n",
              "  </tbody>\n",
              "</table>\n",
              "</div>"
            ],
            "text/plain": [
              "          0         1\n",
              "0  0.897402  0.390604\n",
              "1 -0.398748  0.825229\n",
              "2  0.997874 -0.048381\n",
              "3  0.966548 -0.048782"
            ]
          },
          "metadata": {
            "tags": []
          },
          "execution_count": 17
        }
      ]
    },
    {
      "cell_type": "code",
      "metadata": {
        "id": "3O9-VSnn7_gR",
        "colab_type": "code",
        "colab": {
          "base_uri": "https://localhost:8080/",
          "height": 33
        },
        "outputId": "dd6074f0-e9c7-4248-edb1-1f825571400f"
      },
      "source": [
        "arr1,arr2 = [],[]\n",
        "for index, x in enumerate(cor_m):\n",
        "    arr1.append(index+1) if (x[0]>x[1]) else arr2.append(index+1)\n",
        "print(arr1, arr2)\n"
      ],
      "execution_count": 18,
      "outputs": [
        {
          "output_type": "stream",
          "text": [
            "[1, 3, 4] [2]\n"
          ],
          "name": "stdout"
        }
      ]
    },
    {
      "cell_type": "code",
      "metadata": {
        "id": "te4FxGfg9QcN",
        "colab_type": "code",
        "colab": {}
      },
      "source": [
        ""
      ],
      "execution_count": null,
      "outputs": []
    }
  ]
}